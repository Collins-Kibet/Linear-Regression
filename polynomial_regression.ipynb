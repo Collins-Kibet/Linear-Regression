{
 "cells": [
  {
   "cell_type": "markdown",
   "metadata": {},
   "source": [
    "**Collins Kibet**\n",
    "\n",
    "Spring 2021\n",
    "\n",
    "CS 251: Data Analysis and Visualization\n",
    "\n",
    "Project 3: Linear regression\n",
    "\n",
    "Polynomial regression"
   ]
  },
  {
   "cell_type": "code",
   "execution_count": 1,
   "metadata": {},
   "outputs": [],
   "source": [
    "import os\n",
    "import random\n",
    "import numpy as np\n",
    "import matplotlib.pyplot as plt\n",
    "\n",
    "import data\n",
    "import linear_regression\n",
    "\n",
    "plt.style.use(['seaborn-colorblind', 'seaborn-darkgrid'])\n",
    "plt.rcParams.update({'font.size': 20})\n",
    "\n",
    "np.set_printoptions(suppress=True, precision=5)\n",
    "\n",
    "# Automatically reload external modules\n",
    "%load_ext autoreload\n",
    "%autoreload 2"
   ]
  },
  {
   "cell_type": "markdown",
   "metadata": {},
   "source": [
    "## Task 3: Polynomial Regression"
   ]
  },
  {
   "cell_type": "markdown",
   "metadata": {},
   "source": [
    "We have been creating linear regression fits of form $y =c_0 + c_1x_1 + c_2x_2 + \\ldots$, where $x_i$ are independent variables (columns of $A$) and $c_i$ are corresponding coefficients in $c$. However, this equation only allows us to fit data with a line/plane. This may not be the best choice for all datasets.\n",
    "\n",
    "In this task, you will generalize the linear regression model form to include higher-degree (>1) polynomial terms and explore how this may improve fits to complex data. For example, assume we're doing a simple linear regression with independent variable $x_1$ and dependent variable $y$. A linear regression that fits data with a quadratic shape has the form$$y = c_0 + c_1x_1 + c_2x_1^2$$\n",
    "\n",
    "Complete the following steps to add support for polynomial regression in your `LinearRegression` class."
   ]
  },
  {
   "cell_type": "markdown",
   "metadata": {},
   "source": [
    "### 3a) Build the polynomial matrix of the independent variable\n",
    "\n",
    "The polynomial matrix contains the independent variable raised to a different power in each column. For example, if $A$ originally has a column vector for the independent variable $\\vec{x_1}$ ($A = [\\vec{x_1}]$) and we wanted to make the above quadratic model, we would append $x_1^2$ ($A = [\\vec{x_1}, \\vec{x_1^2}]$).\n",
    "\n",
    "**TODO:**\n",
    "Implement and test `LinearRegression::make_polynomial_matrix` (*helper method*) that takes care of raising the independent variable samples to different powers.\n",
    "\n",
    "##### Test `make_polynomial_matrix`"
   ]
  },
  {
   "cell_type": "code",
   "execution_count": 2,
   "metadata": {},
   "outputs": [
    {
     "name": "stdout",
     "output_type": "stream",
     "text": [
      "Your polynomial matrix:\n",
      "[[  1.   1.   1.]\n",
      " [  2.   4.   8.]\n",
      " [  3.   9.  27.]\n",
      " [  4.  16.  64.]\n",
      " [  5.  25. 125.]\n",
      " [  6.  36. 216.]\n",
      " [  7.  49. 343.]\n",
      " [  8.  64. 512.]\n",
      " [  9.  81. 729.]]\n",
      "It should look like:\n",
      " \n",
      "[[  1.   1.   1.]\n",
      " [  2.   4.   8.]\n",
      " [  3.   9.  27.]\n",
      " [  4.  16.  64.]\n",
      " [  5.  25. 125.]\n",
      " [  6.  36. 216.]\n",
      " [  7.  49. 343.]\n",
      " [  8.  64. 512.]\n",
      " [  9.  81. 729.]]\n",
      "\n"
     ]
    }
   ],
   "source": [
    "test_A = np.r_[1:10].reshape((9, 1))\n",
    "test_p = 3\n",
    "\n",
    "# Test cubic\n",
    "lin_reg = linear_regression.LinearRegression(data.Data())\n",
    "print(f'Your polynomial matrix:\\n{lin_reg.make_polynomial_matrix(test_A, 3)}')\n",
    "\n",
    "true_mat = '''\n",
    "[[  1.   1.   1.]\n",
    " [  2.   4.   8.]\n",
    " [  3.   9.  27.]\n",
    " [  4.  16.  64.]\n",
    " [  5.  25. 125.]\n",
    " [  6.  36. 216.]\n",
    " [  7.  49. 343.]\n",
    " [  8.  64. 512.]\n",
    " [  9.  81. 729.]]\n",
    "'''\n",
    "print('It should look like:\\n', true_mat)"
   ]
  },
  {
   "cell_type": "markdown",
   "metadata": {},
   "source": [
    "### 3b) Add support for polynomial regression\n",
    "\n",
    "This can be performed in 3 steps:\n",
    "\n",
    "\n",
    "1. Implement the `LinearRegression::polynomial_regression` method to perform the polynomial regression (*alternate option: you may instead update your `linear_regression` method. If you decide to go this route, add a keyword argument for the polynomial degree with a default value of 1 to preserve compatability with regular linear regression.*).\n",
    "2. Update `LinearRegression::predict`: Run `make_polynomial_matrix` on the \"A\" matrix that enters into the computation $y = Ac$ if `self.p > 1`.\n",
    "3. Add support for plotting polynomials in `LinearRegression::scatter` by generalizing the plotted regression line to a regression polynomial if `self.p > 1`:\n",
    "    - Getting your polynomial \"x\" values: Run `make_polynomial_matrix` on your evenly-spaced line sample points. To get the shapes to work out, you may need to add a trailing singleton dimension to your \"x\" sample points. For example, if you have 1000 \"x\" sample points, make the shape `(1000, 1)` rather than `(1000,)`.\n",
    "    - Getting your polynomial \"y\" values: Use matrix multiplication with your polynomial regression model slopes and/or intercepts.\n",
    "\n",
    "*There is no explicit test code here — visualizing the fit in the next subtask will help you debug!*"
   ]
  },
  {
   "cell_type": "markdown",
   "metadata": {},
   "source": [
    "### 3c) Run a polynomial regression\n",
    "\n",
    "In this subtask, you will debug your polynomial regression implementation and experiment fitting some data with it.\n",
    "\n",
    "#### Test: Polynomial regression with linear model ($p = 1$)\n",
    "\n",
    "- In the cell below, fit the `poly_data.csv` dataset using polynomial regression where the polynomial degree $p = 1$.\n",
    "- Use `scatter` to plot the results.\n",
    "- Print out the mean sum of squares error.\n",
    "\n",
    "The plot created by running the below cell should \"look right\" to you."
   ]
  },
  {
   "cell_type": "code",
   "execution_count": 3,
   "metadata": {},
   "outputs": [
    {
     "name": "stdout",
     "output_type": "stream",
     "text": [
      "MSSE_linear: 71.81\n",
      "R2_poly:  0.69\n"
     ]
    },
    {
     "data": {
      "image/png": "[encoded data removed]",
      "text/plain": [
       "<Figure size 432x288 with 1 Axes>"
      ]
     },
     "metadata": {},
     "output_type": "display_data"
    }
   ],
   "source": [
    "from data import Data\n",
    "from linear_regression import LinearRegression\n",
    "from analysis import Analysis\n",
    "\n",
    "#Make data object for poly_data\n",
    "poly_dobj = Data('data/poly_data.csv')\n",
    "\n",
    "#Create linear regression object\n",
    "poly_lobj = LinearRegression(poly_dobj)\n",
    "\n",
    "\n",
    "#Fit poly_data using polynomial regression with p = 1\n",
    "poly_lobj.linear_regression('X', 'Y')\n",
    "\n",
    "#create scatter plot\n",
    "poly_lobj.scatter('X', 'Y','Y vs X')\n",
    "\n",
    "      \n",
    "#MSSE\n",
    "print(f'MSSE_linear: {poly_lobj.mean_sse():.2f}')\n",
    "\n",
    "#R2\n",
    "print(f'R2_poly: {poly_lobj.R2: .2f}')\n"
   ]
  },
  {
   "cell_type": "code",
   "execution_count": null,
   "metadata": {},
   "outputs": [],
   "source": []
  },
  {
   "cell_type": "markdown",
   "metadata": {},
   "source": [
    "#### Test: polynomial regression with high degree polynomials\n",
    "\n",
    "Repeat the steps from the $p = 1$ test above in the cell below, but this time try $p = 7$. \n",
    "\n",
    "*Your regression fit should not be a line!*"
   ]
  },
  {
   "cell_type": "code",
   "execution_count": 4,
   "metadata": {},
   "outputs": [
    {
     "name": "stdout",
     "output_type": "stream",
     "text": [
      "MSSE_poly:  55.03\n",
      "R2_poly:  0.76\n"
     ]
    },
    {
     "data": {
      "image/png": "[encoded data removed]",
      "text/plain": [
       "<Figure size 432x288 with 1 Axes>"
      ]
     },
     "metadata": {},
     "output_type": "display_data"
    }
   ],
   "source": [
    "#Fit poly_data using polynomial regression with p = 7\n",
    "poly_lobj.poly_regression('X', 'Y', 7)\n",
    "\n",
    "#create scatter plot\n",
    "poly_lobj.scatter('X', 'Y','Y vs X')\n",
    "\n",
    "#MSSE\n",
    "print(f'MSSE_poly: {poly_lobj.mean_sse(): .2f}')\n",
    "\n",
    "#R2\n",
    "print(f'R2_poly: {poly_lobj.R2: .2f}')\n"
   ]
  },
  {
   "cell_type": "markdown",
   "metadata": {},
   "source": [
    "**Question 5:** Describe the fit compared to `p=1` — is it better or worse? Why?\n",
    "\n",
    "**Question 6:** Describe what happens visually and in terms of the $R^2$ and MSE values as you experiment with the polynomial degree between 1 and 7."
   ]
  },
  {
   "cell_type": "markdown",
   "metadata": {},
   "source": [
    "**Answer 5:** The fit with p = 7 has a smaller mean squared error(54.79) and explains more of the variance in the dependent variable(77%) than the fit with p = 1 which has mean squared error of 71.81 and an r-squared value of 0.69.\n",
    "\n",
    "**Answer 6:** When p = 1 and p = 2, the regression fit is a line. As p increases from 3 to 7, the regression fit is a curve that becomes more convoluted as p increases. The curve attempts to go through majority of the data points. \n",
    "\n",
    "The MSE increases as p increases from 1 to 7 while the $R^2$ value decreases. This shows that the model becomes better as p increases because it explains more and more of the variance in the dependent variable and the mean squared error keeps on decreasing.\n",
    "\n",
    "#Degree MSSE, R2\n",
    "#P1 - 71.81, 0.69\n",
    "#P2 - 71.76, 0.69\n",
    "#P3 - 69.88, 0.70\n",
    "#P4 - 68.56, 0.71\n",
    "#P5 - 58.80, 0.75\n",
    "#P6 - 58.40, 0.75\n",
    "#P7 - 55.03, 0.76\n"
   ]
  },
  {
   "cell_type": "markdown",
   "metadata": {},
   "source": [
    "## Task 4: Overfitting\n",
    "\n",
    "In this subtask, you will experiment with how polynomial regression generalize to data not used to fit the regression model."
   ]
  },
  {
   "cell_type": "markdown",
   "metadata": {},
   "source": [
    "### 4a) Create fit and validation sets\n",
    "\n",
    "The `poly_data.csv` dataset has 100 samples ($N=100$). In the cell below, split these samples into two separate \"datasets\" and create 2 `Data` objects representing:\n",
    "- The first 50% of samples will be used to fit the regression model (i.e. run linear regression on these samples). We will call this the **fit set** (data used to fit the regression).\n",
    "- The second 50% of samples will be set aside and only used to check how well the fitted regression generalizes to new data. We will call this the **validation set**.\n",
    "\n",
    "*Hint: There is a helpful `Data` method for paring down a dataset into a certain range of samples.*"
   ]
  },
  {
   "cell_type": "code",
   "execution_count": 5,
   "metadata": {},
   "outputs": [
    {
     "name": "stdout",
     "output_type": "stream",
     "text": [
      "--------------------------------\n",
      "data/poly_data.csv (50x2) \n",
      "Headers: \n",
      "X    Y\n",
      "-------------------------------\n",
      "Showing first 5/50 rows.\n",
      "2.147 11.382\n",
      "9.465 1.034\n",
      " 4.52 20.251\n",
      "1.974  2.89\n",
      "-3.358 -6.809\n",
      "-------------------------------\n",
      "\n",
      "--------------------------------\n",
      "data/poly_data.csv (50x2) \n",
      "Headers: \n",
      "X    Y\n",
      "-------------------------------\n",
      "Showing first 5/50 rows.\n",
      "-3.65 -4.658\n",
      " 9.69 -6.107\n",
      "-21.986 -17.271\n",
      "-8.694 -2.22\n",
      "-15.536 -25.608\n",
      "-------------------------------\n",
      "\n"
     ]
    }
   ],
   "source": [
    "#Training set - poly_data used to fit and set\n",
    "train_data = Data('data/poly_data.csv')\n",
    "\n",
    "\n",
    "#limit fit data to first half\n",
    "train_data.limit_samples(0,50)\n",
    "\n",
    "print(train_data)\n",
    "\n",
    "#Validation set/ Testing data object\n",
    "test_data = Data('data/poly_data.csv')\n",
    "\n",
    "#limit validation set data to bottom half\n",
    "test_data.limit_samples(50,100)\n",
    "\n",
    "print(test_data)"
   ]
  },
  {
   "cell_type": "markdown",
   "metadata": {},
   "source": [
    "Printing the `Data` object storing the fit set should yield:\n",
    "\n",
    "    -------------------------------\n",
    "    data/polydata.csv (50x2)\n",
    "    Headers:\n",
    "    X\tY\n",
    "    Types:\n",
    "    numeric\tnumeric\n",
    "    -------------------------------\n",
    "    Showing first 5/50 rows.\n",
    "    2.147\t11.382\n",
    "    9.465\t1.034\n",
    "    4.52\t20.251\n",
    "    1.974\t2.89\n",
    "    -3.358\t-6.809\n",
    "\n",
    "    -------------------------------\n",
    "\n",
    "Printing the `Data` object storing the validation set should yield:\n",
    "\n",
    "    -------------------------------\n",
    "    data/polydata.csv (50x2)\n",
    "    Headers:\n",
    "    X\tY\n",
    "    Types:\n",
    "    numeric\tnumeric\n",
    "    -------------------------------\n",
    "    Showing first 5/50 rows.\n",
    "    -3.65\t-4.658\n",
    "    9.69\t-6.107\n",
    "    -21.986\t-17.271\n",
    "    -8.694\t-2.22\n",
    "    -15.536\t-25.608\n",
    "\n",
    "    -------------------------------"
   ]
  },
  {
   "cell_type": "markdown",
   "metadata": {},
   "source": [
    "### 4b) Check fit generalization on validation set\n",
    "\n",
    "Here is the process for checking how well your fitted linear regression model generalizes to the validation data:\n",
    "1. Create `Data` objects for both the fit and validation data sets (*as you have already done*).\n",
    "2. Run linear regression on the fit set.\n",
    "3. Create a new `LinearRegression` object associated with the validation data.\n",
    "4. Copy over the fitted slope and intercept coefficients associated with the fit set to the validation set `LinearRegression` object.\n",
    "5. Create a scatterplot by calling `scatter` to show the validation data and the regression curve that uses the coefficients fitted on the fit dataset (copied over in Step 4).\n",
    "6. Calculate and report fit statistics (e.g. MSSE, $R^2$).\n",
    "\n",
    "Before doing this, implement the following methods to help you copy over the fitted slope, intercept and other data from your fit set `LinearRegression` object:\n",
    "\n",
    "- `get_fitted_slope`: return the fitted regression slopes.\n",
    "- `get_fitted_intercept`: return the fitted regression intercept.\n",
    "- `initialize(ind_vars, dep_var, slope, intercept, p)`: set fields based on passed in parameter values."
   ]
  },
  {
   "cell_type": "markdown",
   "metadata": {},
   "source": [
    "#### Check overfitting with $p = 7$ polynomial regression model\n",
    "\n",
    "In the cell below:\n",
    "\n",
    "1. Fit a polynomial regression model with $p = 7$ on the fit set.\n",
    "2. Create 2 scatter plots:\n",
    "    - Showing the fit set and regression curve fitted to it.\n",
    "    - Showing the validation set and regression curve that uses the fitted coefficients to the **fit set**.\n",
    "3. Compute and print the MSSE for both the fit and validation sets.\n",
    "\n",
    "Use the 6 step process above to guide you through the setup."
   ]
  },
  {
   "cell_type": "code",
   "execution_count": 6,
   "metadata": {},
   "outputs": [
    {
     "name": "stdout",
     "output_type": "stream",
     "text": [
      "Train set R2:  0.78\n"
     ]
    },
    {
     "data": {
      "image/png": "[encoded data removed]",
      "text/plain": [
       "<Figure size 432x288 with 1 Axes>"
      ]
     },
     "metadata": {},
     "output_type": "display_data"
    },
    {
     "name": "stdout",
     "output_type": "stream",
     "text": [
      "Test set R2:  0.66\n"
     ]
    },
    {
     "data": {
      "image/png": "[encoded data removed]",
      "text/plain": [
       "<Figure size 432x288 with 1 Axes>"
      ]
     },
     "metadata": {},
     "output_type": "display_data"
    }
   ],
   "source": [
    "#Create linear regression object\n",
    "linreg_train = LinearRegression(train_data)\n",
    "\n",
    "#Fit a polynomial regression model with p = 7 on fit set\n",
    "linreg_train.poly_regression('X', 'Y', 7)\n",
    "\n",
    "#Scatter plot1 - fit set with regression curve\n",
    "linreg_train.scatter('X','Y', f'Train set scatterplot - MSSE: {linreg_train.m_sse: 0.2f}')\n",
    "\n",
    "print(f'Train set R2: {linreg_train.R2: 0.2f}')\n",
    "\n",
    "linreg_train.show()\n",
    "\n",
    "#Scatter plot2 - validation set with regression curve\n",
    "#Create linear regression object for validation set\n",
    "linreg_test = LinearRegression(test_data)\n",
    "\n",
    "linreg_test.initialize('X','Y', linreg_train.get_fitted_slope(), linreg_train.get_fitted_intercept(), 7)\n",
    "\n",
    "linreg_test.scatter('X', 'Y', f'Test set scatterplot - MSSE: {linreg_test.m_sse: 0.2f}' )\n",
    "\n",
    "print(f'Test set R2: {linreg_test.R2: 0.2f}')\n",
    "\n",
    "linreg_test.show()\n"
   ]
  },
  {
   "cell_type": "markdown",
   "metadata": {},
   "source": [
    "**Question 7:** Describe how the fitted coefficients obtained for the fit set generalize to the validation set. Do they do a good or bad job? Why?\n",
    "\n",
    "**Question 8:** Does the generalization improve or worsen for polynomial degrees < 7? Are Back up your observations with numbers (e.g. MSSE, $R^2$).\n",
    "\n",
    "**Question 9:** Are there any values/ranges of polynomial degrees that generalize acceptably to the validation set? Why do you think so?\n",
    "\n",
    "**Question 10:** What happens when you increase the polynomial degree above 7, in the range $7-13$? Why do you think this happens? Back up your observations with numbers (e.g. MSSE, $R^2$)."
   ]
  },
  {
   "cell_type": "markdown",
   "metadata": {},
   "source": [
    "**Answer 7:** \n",
    "\n",
    "The validation set mean squared error is almost 3 times greater than the fit set mean squared error. The r-squared value from the validation set is also smaller than that of the fit set. We can therefore conclude that the fitted coefficients obtained for the fit set do not generalize well to the validation set. \n",
    "\n",
    "**Answer 8:**\n",
    "\n",
    "#Degree <->  MSSE       <->      R2\n",
    "#. <->     Train,Test    <->   Train,Test \n",
    "#P1 :   59.60, 88.58  <->  0.66, 0.69\n",
    "#P2 :   59.41, 89.27  <->   0.66, 0.68\n",
    "#P3 :   53.49, 93.02  <->  0.69, 0.67\n",
    "#P4 :   52.62, 91.38  <->  0.70, 0.68\n",
    "#P5 :   49.81, 79.82  <->  0.72, 0.72\n",
    "#P6 :   49.70, 79.19  <->  0.72, 0.72\n",
    "#P7 :   38.30, 96.46 <->  0.78, 0.66\n",
    "\n",
    "For polynomial degrees less than 7, the generalizations improve a little bit. The difference between the mean squared errors from the training set and the testing set decreases as p degrees from 7 to 1. The r-squared values of the testing set do not change by a huge margin across the different degrees.\n",
    "\n",
    "**Answer 9:** \n",
    "\n",
    "The R-squared values produced when p = 5 and p = 6 are the same for both the training data and the testing data. I hesistate to conclude that this observation presents the model with polynomial degree 4 and 5 as the ones that best generalize to the validation set because the mean squared errors associated with them are large than the ones from their training model.\n",
    "\n",
    "**Answer 10:**\n",
    "\n",
    "The testing set mean squared error increases by a huge margin and the r_squared value drops drastically at p = 13. This is because the model becomes more complex and causes overfitting. The fitted coefficients obtained for the fit set produce a regression curve that attempts to go through majority of the training data thus making the model unsuitable for predicting data it hasn't seen before. Below are the MSSEs and R-squared values of the models with p = 7 to p = 13:\n",
    "\n",
    "#Degree <->   MSSE       <->      R2\n",
    "#. <->     Train,Test    <->   Train,Test \n",
    "#P7 :   38.30, 96.46  <->  0.78, 0.66\n",
    "#P8 :   38.26, 95.51  <->  0.78, 0.66\n",
    "#P9 :   23.12, 37.88  <->  0.87, 0.87\n",
    "#P10 :  22.63, 46.24  <->  0.87, 0.84\n",
    "#P11 :  14.42, 86.14  <->  0.92, 0.70\n",
    "#P12 :  14.46, 71.33  <->  0.92, 0.75\n",
    "#P13 :  48.58, 218.66  <->  0.72, 0.23\n",
    "\n",
    "The model performs relatively well when p = 9 and 10 because of the small test errors and the r_squared values close to 1. For the other values of p, there's a significant difference between the training mse and the testing mse."
   ]
  },
  {
   "cell_type": "markdown",
   "metadata": {},
   "source": [
    "## Extensions\n",
    "\n",
    "To receive credit for any extension, you must:\n",
    "- Not modify / prevent any code from the core project from working (e.g. make a copy before changing). In other words, **the notebook test code should still work!**\n",
    "- **You must describe what you did and what you found in detail**. This includes a summary of parameter values used in your simulations.\n",
    "- Include (*labeled!*) plots and/or numbers to present your results.\n",
    "- Write up your extensions below or in a separate notebook.\n",
    "\n",
    "**Rule of thumb: one deep, thorough extension is worth more than several quick, shallow extensions!**\n",
    "\n",
    "**Reminder:** Give credit to all sources, including anyone that you consulted."
   ]
  },
  {
   "cell_type": "markdown",
   "metadata": {},
   "source": [
    "### 1. Your own data\n",
    "\n",
    "- Run linear regression on datasets that interest you. Identify your hypotheses about the association between variables and test them out. Make plots and report all relevant metrics fit."
   ]
  },
  {
   "cell_type": "markdown",
   "metadata": {},
   "source": [
    "### 2. Linear regression algorithm comparison\n",
    "\n",
    "- Research and implement other the linear regression solver methods (e.g. normal equations).\n",
    "- Run and compare how well they do on a dataset of your choice.\n",
    "- Research and implement matrix condition number. Find a dataset with a poor matrix condition number and then compare the regression methods. Which does best and why?"
   ]
  },
  {
   "cell_type": "markdown",
   "metadata": {},
   "source": [
    "### 3. Confidence intervals or other kinds of error bars on linear regression plots\n",
    "\n",
    "- Add the option to plot 95% confidence intervals on the linear regression predictions in your plot functions (e.g. `scatter`)."
   ]
  },
  {
   "cell_type": "markdown",
   "metadata": {},
   "source": [
    "### 4. Overfitting\n",
    "\n",
    "- Run polynomial regression on other datasets. What degree polynomial works well? When do you overfit?"
   ]
  },
  {
   "cell_type": "markdown",
   "metadata": {},
   "source": [
    "### 5. Stepwise linear regression\n",
    "\n",
    "- Implement the stepwise linear regression discussed in class where you add variables to the regression model one-by-one in a greedy fashion: each variable added out of the available ones not already entered in the regression should result in the largest increase in the adjusted $R^2$ value on the validation data."
   ]
  }
 ],
 "metadata": {
  "kernelspec": {
   "display_name": "Python 3",
   "language": "python",
   "name": "python3"
  },
  "language_info": {
   "codemirror_mode": {
    "name": "ipython",
    "version": 3
   },
   "file_extension": ".py",
   "mimetype": "text/x-python",
   "name": "python",
   "nbconvert_exporter": "python",
   "pygments_lexer": "ipython3",
   "version": "3.7.6"
  }
 },
 "nbformat": 4,
 "nbformat_minor": 2
}
